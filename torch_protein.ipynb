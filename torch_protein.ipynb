{
 "cells": [
  {
   "cell_type": "code",
   "execution_count": 1,
   "id": "7a62df25",
   "metadata": {},
   "outputs": [
    {
     "name": "stdout",
     "output_type": "stream",
     "text": [
      "18:37:31   Downloading https://files.rcsb.org/download/6EDX.pdb to ./6EDX.pdb\n",
      "Protein(num_atom=979, num_bond=1968, num_residue=136)\n",
      "torch.Size([136, 21])\n",
      "torch.Size([979, 3])\n",
      "torch.Size([1968, 1])\n"
     ]
    },
    {
     "name": "stderr",
     "output_type": "stream",
     "text": [
      "C:\\Users\\antre\\anaconda3\\envs\\masters\\lib\\site-packages\\torchdrug\\data\\protein.py:213: UserWarning: Unknown residue `GOL`. Treat as glycine\n",
      "  warnings.warn(\"Unknown residue `%s`. Treat as glycine\" % type)\n",
      "C:\\Users\\antre\\anaconda3\\envs\\masters\\lib\\site-packages\\torchdrug\\data\\feature.py:42: UserWarning: Unknown value `GOL`\n",
      "  warnings.warn(\"Unknown value `%s`\" % x)\n",
      "C:\\Users\\antre\\anaconda3\\envs\\masters\\lib\\site-packages\\torchdrug\\data\\protein.py:213: UserWarning: Unknown residue `HOH`. Treat as glycine\n",
      "  warnings.warn(\"Unknown residue `%s`. Treat as glycine\" % type)\n",
      "C:\\Users\\antre\\anaconda3\\envs\\masters\\lib\\site-packages\\torchdrug\\data\\feature.py:42: UserWarning: Unknown value `HOH`\n",
      "  warnings.warn(\"Unknown value `%s`\" % x)\n"
     ]
    }
   ],
   "source": [
    "import torchdrug as td\n",
    "import pandas as pd\n",
    "from torchdrug import data, utils\n",
    "import os\n",
    "\n",
    "df = pd.read_csv(\"uniprot_to_pdb_id.csv\")\n",
    "uniprots = list(df[\"From\"])\n",
    "pdb = list(df[\"To\"])\n",
    "\n",
    "uniprot_to_pdb_map = {}\n",
    "for u, p in zip(uniprots, pdb):\n",
    "    uniprot_to_pdb_map[u] = p\n",
    "    \n",
    "\n",
    "uniprot = \"Q96BR1\"\n",
    "pdb_id = uniprot_to_pdb_map[uniprot]\n",
    "url = \"https://files.rcsb.org/download/\"\n",
    "url += pdb_id + \".pdb\"\n",
    "pdb_file = utils.download(url, \"./\")\n",
    "protein = data.Protein.from_pdb(pdb_file, atom_feature=\"position\", bond_feature=\"length\", residue_feature=\"symbol\")\n",
    "print(protein)\n",
    "print(protein.residue_feature.shape)\n",
    "print(protein.atom_feature.shape)\n",
    "print(protein.bond_feature.shape)\n"
   ]
  },
  {
   "cell_type": "code",
   "execution_count": 2,
   "id": "ae1dbdde",
   "metadata": {},
   "outputs": [
    {
     "name": "stdout",
     "output_type": "stream",
     "text": [
      "SER 1\n",
      "CYS 1\n",
      "PRO 1\n",
      "SER 1\n",
      "VAL 1\n",
      "SER 1\n",
      "ILE 1\n",
      "PRO 1\n",
      "SER 1\n",
      "SER 1\n",
      "N [-9.36400032043457, 24.341999053955078, -28.27400016784668]\n",
      "CA [-8.71500015258789, 23.16699981689453, -28.834999084472656]\n",
      "C [-9.642999649047852, 21.950000762939453, -28.81800079345703]\n",
      "O [-10.770999908447266, 22.020000457763672, -28.31599998474121]\n",
      "CB [-7.426000118255615, 22.858999252319336, -28.06599998474121]\n",
      "OG [-6.497000217437744, 23.920000076293945, -28.19700050354004]\n",
      "N [-9.166000366210938, 20.847000122070312, -29.395000457763672]\n",
      "CA [-9.835000038146973, 19.55699920654297, -29.277999877929688]\n",
      "C [-9.65999984741211, 19.024999618530273, -27.85300064086914]\n",
      "O [-8.53499984741211, 18.756000518798828, -27.42099952697754]\n"
     ]
    }
   ],
   "source": [
    "for residue_id, chain_id in zip(protein.residue_type.tolist()[:10], protein.chain_id.tolist()[:10]):\n",
    "    print(data.Protein.id2residue[residue_id], chain_id)\n",
    "    \n",
    "for atom, position in zip(protein.atom_name.tolist()[:10], protein.node_position.tolist()[:10]):\n",
    "    print(data.Protein.id2atom_name[atom], position)"
   ]
  },
  {
   "cell_type": "code",
   "execution_count": 3,
   "id": "e0976046",
   "metadata": {},
   "outputs": [
    {
     "name": "stdout",
     "output_type": "stream",
     "text": [
      "MGKKHKKHKSDKHLYEEYVEKPLKLVLKVGGNEVTELSTGSSGHDSSLFEDKNDHDKHKDRKRKKRKKGEKQIPGEEKGRKRRRVKEDKKKRDRDRVENEAEKDLQCHAPVRLDLPPEKPLTSSLAKQEEVEQTPLQEALNQLMRQLQRKDPSAFFSFPVTDFMSSRAIGAPQEGADMKNKAARLGTYTNWPVQFLEPSRMAASGFYYLGRGDEVRCAFCKVEITNWVRGDDPETDHKRWAPQCPFVRNNAHDTPHDRAPPARSAAAHPQYATEAARLRTFAEWPRGLKQRPEELAEAGFFYTGQGDKTRCFCCDGGLKDWEPDDAPWQQHARWYDRCEYVLLVKGRDFVQRVMTEACVVRDADNEPHIERPAVEAEVADDRLCKICLGAEKTVCFVPCGHVVACGKCAAGVTTCPVCRGQLDKAVRMYQVGYSMIIKHPMDFSTMKEKIKNNDYQSIEELKDNFKLMCTNAMIYNKPETIYYKAAKKLLHSGMKILSQERIQSLKQSIDFMADLQKTRKQKDGTDTSQSGEDGGCWQREREDSGDAEAHAFKSPSKENKKKDKDMLEDKFKSNNLEREQEQLDRIVKESGGKLTRRLVNSQCEFERRKPDGTTTLGLLHPVDPIVGEPGYCPVRLGMTTGRLQSGVNTLQGFKEDKRNKVTPVLYLNYGPYSSYAPHYDSTFANISKDDSDLIYSTYGEDSDLPSDFSIHEFLATCQDYPYVMADSLLDVLTKGGHSRTLQEMEMSLPEDEGHTRTLDTAKEMEITEVEPPGRLDSSTQDRLIALKAVTNFGVPVEVFDSEEAEIFQKKLDETTRLLRELQEAQNERLSTRPPPNMICLLGPSYREMHLAEQVTNNLKELAQQVTPGDIVSTYGVRKAMGISIPSPVMENNFVDLTEDTEEPKKTDVAECGPGGS\n",
      "Duration of construction:,  0.007983684539794922\n",
      "Protein(num_atom=0, num_bond=0, num_residue=916)\n"
     ]
    }
   ],
   "source": [
    "# Construct protein from sequence\n",
    "import time\n",
    "\n",
    "aa_seq = \"MGKKHKKHKSDKHLYEEYVEKPLKLVLKVGGNEVTELSTGSSGHDSSLFEDKNDHDKHKDRKRKKRKKGEKQIPGEEKGRKRRRVKEDKKKRDRDRVENEAEKDLQCHAPVRLDLPPEKPLTSSLAKQEEVEQTPLQEALNQLMRQLQRKDPSAFFSFPVTDFMSSRAIGAPQEGADMKNKAARLGTYTNWPVQFLEPSRMAASGFYYLGRGDEVRCAFCKVEITNWVRGDDPETDHKRWAPQCPFVRNNAHDTPHDRAPPARSAAAHPQYATEAARLRTFAEWPRGLKQRPEELAEAGFFYTGQGDKTRCFCCDGGLKDWEPDDAPWQQHARWYDRCEYVLLVKGRDFVQRVMTEACVVRDADNEPHIERPAVEAEVADDRLCKICLGAEKTVCFVPCGHVVACGKCAAGVTTCPVCRGQLDKAVRMYQVGYSMIIKHPMDFSTMKEKIKNNDYQSIEELKDNFKLMCTNAMIYNKPETIYYKAAKKLLHSGMKILSQERIQSLKQSIDFMADLQKTRKQKDGTDTSQSGEDGGCWQREREDSGDAEAHAFKSPSKENKKKDKDMLEDKFKSNNLEREQEQLDRIVKESGGKLTRRLVNSQCEFERRKPDGTTTLGLLHPVDPIVGEPGYCPVRLGMTTGRLQSGVNTLQGFKEDKRNKVTPVLYLNYGPYSSYAPHYDSTFANISKDDSDLIYSTYGEDSDLPSDFSIHEFLATCQDYPYVMADSLLDVLTKGGHSRTLQEMEMSLPEDEGHTRTLDTAKEMEITEVEPPGRLDSSTQDRLIALKAVTNFGVPVEVFDSEEAEIFQKKLDETTRLLRELQEAQNERLSTRPPPNMICLLGPSYREMHLAEQVTNNLKELAQQVTPGDIVSTYGVRKAMGISIPSPVMENNFVDLTEDTEEPKKTDVAECGPGGS\"\n",
    "print(aa_seq)\n",
    "\n",
    "# start_time = time.time()\n",
    "# seq_protein = data.Protein.from_sequence(aa_seq, atom_feature=\"symbol\", bond_feature=\"length\", residue_feature=\"symbol\")\n",
    "# end_time = time.time()\n",
    "# print(\"Duration of construction: \", end_time - start_time)\n",
    "# print(seq_protein)\n",
    "\n",
    "start_time = time.time()\n",
    "seq_protein = data.Protein.from_sequence(aa_seq, atom_feature=None, bond_feature=None, residue_feature=\"default\")\n",
    "end_time = time.time()\n",
    "print(\"Duration of construction:, \", end_time - start_time)\n",
    "print(seq_protein)\n",
    "                                "
   ]
  },
  {
   "cell_type": "code",
   "execution_count": 4,
   "id": "cdef1797",
   "metadata": {},
   "outputs": [
    {
     "name": "stderr",
     "output_type": "stream",
     "text": [
      "100%|█████████████████████████████████████████████████████████████████████████████| 5388/5388 [00:36<00:00, 148.65it/s]\n"
     ]
    },
    {
     "name": "stdout",
     "output_type": "stream",
     "text": [
      "PackedProtein(batch_size=5388, num_atoms=[0, 0, 0, ..., 0, 0, 0], num_bonds=[0, 0, 0, ..., 0, 0, 0], num_residues=[916, 916, 916, ..., 916, 916, 916])\n",
      "PackedProtein(batch_size=8, num_atoms=[0, 0, 0, 0, 0, 0, 0, 0], num_bonds=[0, 0, 0, 0, 0, 0, 0, 0], num_residues=[916, 916, 916, 916, 916, 916, 916, 916])\n"
     ]
    }
   ],
   "source": [
    "from tqdm import tqdm as tqdm\n",
    "\n",
    "#batch proteins\n",
    "protac_df = pd.read_csv(\"filtered_protacs.csv\")\n",
    "proteins = list(protac_df[\"Target Protein\"])\n",
    "\n",
    "my_proteins = []\n",
    "for p in tqdm(proteins):\n",
    "    seq_protein = data.Protein.from_sequence(aa_seq, atom_feature=None, bond_feature=None, residue_feature=\"default\")\n",
    "    my_proteins.append(seq_protein)\n",
    "    \n",
    "proteins = data.Protein.pack(my_proteins)\n",
    "\n",
    "print(proteins)\n",
    "prot_list = [0, 10, 19, 22, 487, 1821, 1453, 267]\n",
    "sub_proteins = proteins[prot_list]\n",
    "print(sub_proteins)"
   ]
  },
  {
   "cell_type": "code",
   "execution_count": 5,
   "id": "ec4b6f46",
   "metadata": {},
   "outputs": [
    {
     "name": "stdout",
     "output_type": "stream",
     "text": [
      "[atom  0 ]  N :  GLY\n",
      "[atom  1 ]  CA :  GLY\n",
      "[atom  2 ]  C :  GLY\n",
      "[atom  3 ]  O :  GLY\n",
      "[atom  4 ]  CB :  GLY\n",
      "[atom  5 ]  OG :  GLY\n",
      "[atom  6 ]  N :  ALA\n",
      "[atom  7 ]  CA :  ALA\n",
      "[atom  8 ]  C :  ALA\n",
      "[atom  9 ]  O :  ALA\n",
      "[atom  10 ]  CB :  ALA\n",
      "[atom  11 ]  SG :  ALA\n",
      "[atom  12 ]  N :  SER\n",
      "[atom  13 ]  CA :  SER\n",
      "[atom  14 ]  C :  SER\n",
      "[atom  15 ]  O :  SER\n",
      "[atom  16 ]  CB :  SER\n",
      "[atom  17 ]  CG :  SER\n",
      "[atom  18 ]  CD :  SER\n",
      "[atom  19 ]  N :  PRO\n",
      "[residue  0 ]  N :  [-9.36400032043457, 24.341999053955078, -28.27400016784668]\n",
      "[residue  0 ]  CA :  [-8.71500015258789, 23.16699981689453, -28.834999084472656]\n",
      "[residue  0 ]  C :  [-9.642999649047852, 21.950000762939453, -28.81800079345703]\n",
      "[residue  0 ]  O :  [-10.770999908447266, 22.020000457763672, -28.31599998474121]\n",
      "[residue  0 ]  CB :  [-7.426000118255615, 22.858999252319336, -28.06599998474121]\n",
      "[residue  0 ]  OG :  [-6.497000217437744, 23.920000076293945, -28.19700050354004]\n",
      "[residue  1 ]  N :  [-9.166000366210938, 20.847000122070312, -29.395000457763672]\n",
      "[residue  1 ]  CA :  [-9.835000038146973, 19.55699920654297, -29.277999877929688]\n",
      "[residue  1 ]  C :  [-9.65999984741211, 19.024999618530273, -27.85300064086914]\n",
      "[residue  1 ]  O :  [-8.53499984741211, 18.756000518798828, -27.42099952697754]\n",
      "[residue  1 ]  CB :  [-9.277000427246094, 18.565000534057617, -30.297000885009766]\n",
      "[residue  1 ]  SG :  [-9.875, 16.875999450683594, -30.07699966430664]\n"
     ]
    }
   ],
   "source": [
    "# atom to residue and residue to atom\n",
    "for atom_id, (atom, residue_id) in enumerate(zip(protein.atom_name.tolist()[:20], protein.atom2residue.tolist()[:20])):\n",
    "    print(\"[atom \", atom_id, \"] \", data.Protein.id2atom_name[atom], \": \", data.Protein.id2residue[residue_id])\n",
    "    \n",
    "for residue_id in [0, 1]:\n",
    "    atom_ids = protein.residue2atom(residue_id).sort()[0]\n",
    "    for atom, position in zip(protein.atom_name[atom_ids].tolist(), protein.node_position[atom_ids].tolist()):\n",
    "         print(\"[residue \", residue_id, \"] \", data.Protein.id2atom_name[atom], \": \", position)\n",
    "    "
   ]
  },
  {
   "cell_type": "code",
   "execution_count": 6,
   "id": "4eb6f29c",
   "metadata": {},
   "outputs": [],
   "source": [
    "#subprotein and masking\n",
    "first_two = protein[:2]\n",
    "\n",
    "is_first_two_ = (protein.atom2residue == 0) | (protein.atom2residue == 1)\n",
    "first_two_ = protein.node_mask(is_first_two_, compact=True)\n",
    "assert first_two == first_two_"
   ]
  },
  {
   "cell_type": "code",
   "execution_count": 7,
   "id": "a577deee",
   "metadata": {},
   "outputs": [
    {
     "name": "stdout",
     "output_type": "stream",
     "text": [
      "torch.Size([979, 3])\n",
      "torch.Size([136, 21])\n"
     ]
    }
   ],
   "source": [
    "# atom and residue views\n",
    "protein.view = \"atom\"\n",
    "print(protein.node_feature.shape)\n",
    "protein.view = \"residue\"\n",
    "print(protein.node_feature.shape)"
   ]
  },
  {
   "cell_type": "code",
   "execution_count": 8,
   "id": "6faf2e61",
   "metadata": {},
   "outputs": [],
   "source": [
    "import torch\n",
    "\n",
    "# customised residue and atom attributes\n",
    "from torch_scatter import scatter_add\n",
    "\n",
    "next_residue_type = torch.cat([protein.residue_type[1:], torch.full((1,), -1, dtype=protein.residue_type.dtype)])\n",
    "followed_by_GLY = next_residue_type == data.Protein.residue2id[\"GLY\"]\n",
    "with protein.residue():\n",
    "    protein.followed_by_GLY = followed_by_GLY\n",
    "    \n",
    "\n",
    "atom_in, atom_out = protein.edge_list.t()[:2]\n",
    "attached_to_N = scatter_add(protein.atom_type[atom_in] == td.NITROGEN, atom_out, dim_size=protein.num_node)\n",
    "with protein.atom():\n",
    "    protein.attached_to_N = attached_to_N\n",
    "    "
   ]
  },
  {
   "cell_type": "code",
   "execution_count": 9,
   "id": "7efe0c38",
   "metadata": {},
   "outputs": [
    {
     "name": "stdout",
     "output_type": "stream",
     "text": [
      "New index  1 :  CA\n",
      "New index  7 :  CA\n",
      "New index  14 :  CA\n",
      "New index  20 :  CA\n",
      "New index  28 :  CA\n",
      "New index  35 :  CA\n",
      "New index  41 :  CA\n"
     ]
    }
   ],
   "source": [
    "# link residue/atom to another residue/atom\n",
    "from torch_scatter import scatter_max\n",
    "\n",
    "range_ = torch.arange(protein.num_node)\n",
    "calpha = torch.where(protein.atom_name == protein.atom_name2id[\"CA\"], range_, -1)\n",
    "residue2calpha = scatter_max(calpha, protein.atom2residue, dim_size=protein.num_residue)[0]\n",
    "with protein.residue(), protein.atom_reference():\n",
    "    protein.residue2calpha = residue2calpha\n",
    "    \n",
    "sub_protein = protein[3:10]\n",
    "for calpha_index in sub_protein.residue2calpha.tolist():\n",
    "    atom_name = data.Protein.id2atom_name[sub_protein.atom_name[calpha_index].item()]\n",
    "    print(\"New index \", calpha_index, \": \", atom_name)"
   ]
  },
  {
   "cell_type": "code",
   "execution_count": 10,
   "id": "9f24e08a",
   "metadata": {},
   "outputs": [],
   "source": [
    "# two layer 1D CNN for protein sequence representation\n",
    "from torchdrug import models\n",
    "from torchdrug import transforms\n",
    "\n",
    "model = models.ProteinCNN(input_dim=21,\n",
    "                          hidden_dims=[1024, 1024],\n",
    "                          kernel_size=5, padding=2, readout=\"max\")\n",
    "\n",
    "# protein transformations\n",
    "truncate_transform = transforms.TruncateProtein(max_length=200, random=False)\n",
    "protein_view_transform = transforms.ProteinView(view=\"residue\")\n",
    "transform = transforms.Compose([truncate_transform, protein_view_transform])"
   ]
  },
  {
   "cell_type": "code",
   "execution_count": 11,
   "id": "bbb4fb80",
   "metadata": {},
   "outputs": [
    {
     "name": "stdout",
     "output_type": "stream",
     "text": [
      "18:38:09   Extracting C:\\Users\\antre/protein-datasets/beta_lactamase.tar.gz to C:\\Users\\antre/protein-datasets\n"
     ]
    },
    {
     "name": "stderr",
     "output_type": "stream",
     "text": [
      "Constructing proteins from sequences: 100%|███████████████████████████████████████| 5198/5198 [00:16<00:00, 319.46it/s]"
     ]
    },
    {
     "name": "stdout",
     "output_type": "stream",
     "text": [
      "The label of first sample: 0.9426838159561157\n",
      "train samples:  4158 valid samples:  520 test samples:  520\n"
     ]
    },
    {
     "name": "stderr",
     "output_type": "stream",
     "text": [
      "\n"
     ]
    }
   ],
   "source": [
    "from torchdrug import datasets\n",
    "\n",
    "dataset = datasets.BetaLactamase(\"~/protein-datasets/\", atom_feature=None, bond_feature=None, residue_feature=\"default\", transform=transform)\n",
    "train_set, valid_set, test_set = dataset.split()\n",
    "print(\"The label of first sample:\", dataset[0][dataset.target_fields[0]])\n",
    "print(\"train samples: \", len(train_set), \"valid samples: \", len(valid_set), \"test samples: \", len(test_set))\n"
   ]
  },
  {
   "cell_type": "code",
   "execution_count": 12,
   "id": "dd03cc60",
   "metadata": {},
   "outputs": [],
   "source": [
    "from torchdrug import tasks\n",
    "\n",
    "# append MLP prediction task on top of CNN\n",
    "task = tasks.PropertyPrediction(model, task=dataset.tasks,\n",
    "                                criterion=\"mse\", metric=(\"mae\", \"rmse\", \"spermanr\"),\n",
    "                                normalization=False, num_mlp_layer=2)"
   ]
  },
  {
   "cell_type": "code",
   "execution_count": 14,
   "id": "ee880759",
   "metadata": {},
   "outputs": [],
   "source": [
    "# # train model and evaluate on validation set\n",
    "# from torchdrug import core\n",
    "\n",
    "# optimizer = torch.optim.Adam(task.parameters(), lr=1e-4)\n",
    "# solver = core.Engine(task, train_set, valid_set, test_set, optimizer, \n",
    "#                      gpus=[0], batch_size=64)\n",
    "# solver.train(num_epoch=10)\n",
    "# solver.evaluate(\"valid\")"
   ]
  },
  {
   "cell_type": "code",
   "execution_count": 19,
   "id": "5427dd99",
   "metadata": {},
   "outputs": [
    {
     "name": "stdout",
     "output_type": "stream",
     "text": [
      "18:23:10   Downloading http://s3.amazonaws.com/songlabdata/proteindata/data_pytorch/secondary_structure.tar.gz to C:\\Users\\antre/protein-datasets/secondary_structure.tar.gz\n",
      "18:24:15   Extracting C:\\Users\\antre/protein-datasets/secondary_structure.tar.gz to C:\\Users\\antre/protein-datasets\n"
     ]
    },
    {
     "name": "stderr",
     "output_type": "stream",
     "text": [
      "Constructing proteins from sequences:   0%|                                                  | 0/11497 [00:00<?, ?it/s]C:\\Users\\antre\\anaconda3\\envs\\masters\\lib\\site-packages\\torchdrug\\data\\protein.py:261: UserWarning: Unknown residue symbol `X`. Treat as glycine\n",
      "  warnings.warn(\"Unknown residue symbol `%s`. Treat as glycine\" % residue)\n",
      "Constructing proteins from sequences: 100%|█████████████████████████████████████| 11497/11497 [00:26<00:00, 437.39it/s]"
     ]
    },
    {
     "name": "stdout",
     "output_type": "stream",
     "text": [
      "SS3 label:  tensor([2, 2, 2, 0, 0, 0, 0, 0, 2, 2])\n",
      "Valid mask:  tensor([True, True, True, True, True, True, True, True, True, True])\n",
      "train samples:  8678 , valid samples:  2170 , test samples:  513\n"
     ]
    },
    {
     "name": "stderr",
     "output_type": "stream",
     "text": [
      "\n"
     ]
    }
   ],
   "source": [
    "dataset = datasets.SecondaryStructure(\"~/protein-datasets/\", atom_feature=None, bond_feature=None, residue_feature=\"default\", transform=protein_view_transform)\n",
    "train_set, valid_set, test_set = dataset.split([\"train\", \"valid\", \"cb513\"])\n",
    "print(\"SS3 label: \", dataset[0][\"graph\"].target[:10])\n",
    "print(\"Valid mask: \", dataset[0][\"graph\"].mask[:10])\n",
    "print(\"train samples: \", len(train_set), \", valid samples: \", len(valid_set), \", test samples: \", len(test_set))\n",
    "\n"
   ]
  },
  {
   "cell_type": "code",
   "execution_count": 20,
   "id": "281fb27c",
   "metadata": {},
   "outputs": [],
   "source": [
    "# append 1D CNN with task-specific MLP\n",
    "task = tasks.NodePropertyPrediction(model, criterion=\"ce\",\n",
    "                                    metric=(\"micro_acc\", \"macro_acc\"),\n",
    "                                    num_mlp_layer=2, num_class=3)"
   ]
  },
  {
   "cell_type": "code",
   "execution_count": 15,
   "id": "26b46820",
   "metadata": {},
   "outputs": [],
   "source": [
    "# optimizer = torch.optim.Adam(task.parameters(), lr=1e-4)\n",
    "# solver = core.Engine(task, train_set, valid_set, test_set, optimizer,\n",
    "#                      gpus=[0], batch_size=128)\n",
    "# solver.train(num_epoch=5)\n",
    "# solver.evaluate(\"valid\")"
   ]
  },
  {
   "cell_type": "code",
   "execution_count": 18,
   "id": "bba5cf84",
   "metadata": {},
   "outputs": [],
   "source": [
    "truncate_transform = transforms.TruncateProtein(max_length=350, random=False)\n",
    "protein_view_transform = transforms.ProteinView(view=\"residue\")\n",
    "transform = transforms.Compose([truncate_transform, protein_view_transform])\n",
    "\n",
    "class EnzymeCommissionToy(datasets.EnzymeCommission):\n",
    "    url = \"https://miladeepgraphlearningproteindata.s3.us-east-2.amazonaws.com/data/EnzymeCommission.tar.gz\"\n",
    "    md5 = \"728e0625d1eb513fa9b7626e4d3bcf4d\"\n",
    "    processed_file = \"enzyme_commission_toy.pkl.gz\"\n",
    "    test_cutoffs = [0.3, 0.4, 0.5, 0.7, 0.95]\n",
    "    "
   ]
  },
  {
   "cell_type": "code",
   "execution_count": 22,
   "id": "1ec55894",
   "metadata": {},
   "outputs": [
    {
     "name": "stdout",
     "output_type": "stream",
     "text": [
      "19:13:12   Extracting C:\\Users\\antre/protein-datasets/EnzymeCommission.tar.gz to C:\\Users\\antre/protein-datasets\n"
     ]
    },
    {
     "name": "stderr",
     "output_type": "stream",
     "text": [
      "Loading C:\\Users\\antre/protein-datasets\\EnzymeCommission\\enzyme_commission_toy.pkl.gz: 100%|█| 1151/1151 [00:04<00:00, \n"
     ]
    },
    {
     "name": "stdout",
     "output_type": "stream",
     "text": [
      "Duration of first instantiation:  5.375838041305542\n",
      "19:13:17   Extracting C:\\Users\\antre/protein-datasets/EnzymeCommission.tar.gz to C:\\Users\\antre/protein-datasets\n"
     ]
    },
    {
     "name": "stderr",
     "output_type": "stream",
     "text": [
      "Loading C:\\Users\\antre/protein-datasets\\EnzymeCommission\\enzyme_commission_toy.pkl.gz: 100%|█| 1151/1151 [00:05<00:00, \n"
     ]
    },
    {
     "name": "stdout",
     "output_type": "stream",
     "text": [
      "Duration of second instantiation:  5.651062488555908\n",
      "train samples:  959 , valid samples:  97 test samples:  95\n"
     ]
    }
   ],
   "source": [
    "import warnings\n",
    "warnings.filterwarnings(\"ignore\")\n",
    "\n",
    "start_time = time.time()\n",
    "dataset = EnzymeCommissionToy(\"~/protein-datasets/\", transform=transform, atom_feature=None,\n",
    "                              bond_feature=None)\n",
    "end_time = time.time()\n",
    "print(\"Duration of first instantiation: \", end_time - start_time)\n",
    "\n",
    "start_time = time.time()\n",
    "dataset = EnzymeCommissionToy(\"~/protein-datasets/\", transform=transform, atom_feature=None, \n",
    "                            bond_feature=None)\n",
    "end_time = time.time()\n",
    "print(\"Duration of second instantiation: \", end_time - start_time)\n",
    "\n",
    "train_set, valid_set, test_set = dataset.split()\n",
    "print(\"train samples: \", len(train_set), \", valid samples: \", len(valid_set), \"test samples: \", len(test_set))\n",
    "\n"
   ]
  },
  {
   "cell_type": "code",
   "execution_count": 24,
   "id": "c03660e7",
   "metadata": {},
   "outputs": [
    {
     "ename": "ImportError",
     "evalue": "DLL load failed while importing torch_ext: The specified module could not be found.",
     "output_type": "error",
     "traceback": [
      "\u001b[1;31m---------------------------------------------------------------------------\u001b[0m",
      "\u001b[1;31mImportError\u001b[0m                               Traceback (most recent call last)",
      "Cell \u001b[1;32mIn[24], line 1\u001b[0m\n\u001b[1;32m----> 1\u001b[0m protein \u001b[38;5;241m=\u001b[39m \u001b[43mdataset\u001b[49m\u001b[43m[\u001b[49m\u001b[38;5;241;43m0\u001b[39;49m\u001b[43m]\u001b[49m[\u001b[38;5;124m\"\u001b[39m\u001b[38;5;124mgraph\u001b[39m\u001b[38;5;124m\"\u001b[39m]\n",
      "File \u001b[1;32m~\\anaconda3\\envs\\masters\\lib\\site-packages\\torchdrug\\data\\dataset.py:189\u001b[0m, in \u001b[0;36mMoleculeDataset.__getitem__\u001b[1;34m(self, index)\u001b[0m\n\u001b[0;32m    187\u001b[0m \u001b[38;5;28;01mdef\u001b[39;00m \u001b[38;5;21m__getitem__\u001b[39m(\u001b[38;5;28mself\u001b[39m, index):\n\u001b[0;32m    188\u001b[0m     \u001b[38;5;28;01mif\u001b[39;00m \u001b[38;5;28misinstance\u001b[39m(index, \u001b[38;5;28mint\u001b[39m):\n\u001b[1;32m--> 189\u001b[0m         \u001b[38;5;28;01mreturn\u001b[39;00m \u001b[38;5;28;43mself\u001b[39;49m\u001b[38;5;241;43m.\u001b[39;49m\u001b[43mget_item\u001b[49m\u001b[43m(\u001b[49m\u001b[43mindex\u001b[49m\u001b[43m)\u001b[49m\n\u001b[0;32m    191\u001b[0m     index \u001b[38;5;241m=\u001b[39m \u001b[38;5;28mself\u001b[39m\u001b[38;5;241m.\u001b[39m_standarize_index(index, \u001b[38;5;28mlen\u001b[39m(\u001b[38;5;28mself\u001b[39m))\n\u001b[0;32m    192\u001b[0m     \u001b[38;5;28;01mreturn\u001b[39;00m [\u001b[38;5;28mself\u001b[39m\u001b[38;5;241m.\u001b[39mget_item(i) \u001b[38;5;28;01mfor\u001b[39;00m i \u001b[38;5;129;01min\u001b[39;00m index]\n",
      "File \u001b[1;32m~\\anaconda3\\envs\\masters\\lib\\site-packages\\torchdrug\\datasets\\enzyme_commission.py:134\u001b[0m, in \u001b[0;36mEnzymeCommission.get_item\u001b[1;34m(self, index)\u001b[0m\n\u001b[0;32m    132\u001b[0m indices \u001b[38;5;241m=\u001b[39m \u001b[38;5;28mself\u001b[39m\u001b[38;5;241m.\u001b[39mpos_targets[index]\u001b[38;5;241m.\u001b[39munsqueeze(\u001b[38;5;241m0\u001b[39m)\n\u001b[0;32m    133\u001b[0m values \u001b[38;5;241m=\u001b[39m torch\u001b[38;5;241m.\u001b[39mones(\u001b[38;5;28mlen\u001b[39m(\u001b[38;5;28mself\u001b[39m\u001b[38;5;241m.\u001b[39mpos_targets[index]))\n\u001b[1;32m--> 134\u001b[0m item[\u001b[38;5;124m\"\u001b[39m\u001b[38;5;124mtargets\u001b[39m\u001b[38;5;124m\"\u001b[39m] \u001b[38;5;241m=\u001b[39m \u001b[43mutils\u001b[49m\u001b[38;5;241;43m.\u001b[39;49m\u001b[43msparse_coo_tensor\u001b[49m\u001b[43m(\u001b[49m\u001b[43mindices\u001b[49m\u001b[43m,\u001b[49m\u001b[43m \u001b[49m\u001b[43mvalues\u001b[49m\u001b[43m,\u001b[49m\u001b[43m \u001b[49m\u001b[43m(\u001b[49m\u001b[38;5;28;43mlen\u001b[39;49m\u001b[43m(\u001b[49m\u001b[38;5;28;43mself\u001b[39;49m\u001b[38;5;241;43m.\u001b[39;49m\u001b[43mtasks\u001b[49m\u001b[43m)\u001b[49m\u001b[43m,\u001b[49m\u001b[43m)\u001b[49m\u001b[43m)\u001b[49m\u001b[38;5;241m.\u001b[39mto_dense()\n\u001b[0;32m    135\u001b[0m \u001b[38;5;28;01mreturn\u001b[39;00m item\n",
      "File \u001b[1;32m~\\anaconda3\\envs\\masters\\lib\\site-packages\\torchdrug\\utils\\torch.py:182\u001b[0m, in \u001b[0;36msparse_coo_tensor\u001b[1;34m(indices, values, size)\u001b[0m\n\u001b[0;32m    170\u001b[0m \u001b[38;5;28;01mdef\u001b[39;00m \u001b[38;5;21msparse_coo_tensor\u001b[39m(indices, values, size):\n\u001b[0;32m    171\u001b[0m \u001b[38;5;250m    \u001b[39m\u001b[38;5;124;03m\"\"\"\u001b[39;00m\n\u001b[0;32m    172\u001b[0m \u001b[38;5;124;03m    Construct a sparse COO tensor without index check. Much faster than `torch.sparse_coo_tensor`_.\u001b[39;00m\n\u001b[0;32m    173\u001b[0m \n\u001b[1;32m   (...)\u001b[0m\n\u001b[0;32m    180\u001b[0m \u001b[38;5;124;03m        size (list): size of the tensor\u001b[39;00m\n\u001b[0;32m    181\u001b[0m \u001b[38;5;124;03m    \"\"\"\u001b[39;00m\n\u001b[1;32m--> 182\u001b[0m     \u001b[38;5;28;01mreturn\u001b[39;00m \u001b[43mtorch_ext\u001b[49m\u001b[38;5;241;43m.\u001b[39;49m\u001b[43msparse_coo_tensor_unsafe\u001b[49m(indices, values, size)\n",
      "File \u001b[1;32m~\\anaconda3\\envs\\masters\\lib\\site-packages\\torchdrug\\utils\\torch.py:27\u001b[0m, in \u001b[0;36mLazyExtensionLoader.__getattr__\u001b[1;34m(self, key)\u001b[0m\n\u001b[0;32m     26\u001b[0m \u001b[38;5;28;01mdef\u001b[39;00m \u001b[38;5;21m__getattr__\u001b[39m(\u001b[38;5;28mself\u001b[39m, key):\n\u001b[1;32m---> 27\u001b[0m     \u001b[38;5;28;01mreturn\u001b[39;00m \u001b[38;5;28mgetattr\u001b[39m(\u001b[38;5;28;43mself\u001b[39;49m\u001b[38;5;241;43m.\u001b[39;49m\u001b[43mmodule\u001b[49m, key)\n",
      "File \u001b[1;32m~\\anaconda3\\envs\\masters\\lib\\site-packages\\torchdrug\\utils\\decorator.py:102\u001b[0m, in \u001b[0;36mcached_property.__get__\u001b[1;34m(self, obj, cls)\u001b[0m\n\u001b[0;32m    100\u001b[0m \u001b[38;5;28;01mif\u001b[39;00m obj \u001b[38;5;129;01mis\u001b[39;00m \u001b[38;5;28;01mNone\u001b[39;00m:\n\u001b[0;32m    101\u001b[0m     \u001b[38;5;28;01mreturn\u001b[39;00m \u001b[38;5;28mself\u001b[39m\n\u001b[1;32m--> 102\u001b[0m result \u001b[38;5;241m=\u001b[39m \u001b[38;5;28;43mself\u001b[39;49m\u001b[38;5;241;43m.\u001b[39;49m\u001b[43mfunc\u001b[49m\u001b[43m(\u001b[49m\u001b[43mobj\u001b[49m\u001b[43m)\u001b[49m\n\u001b[0;32m    103\u001b[0m obj\u001b[38;5;241m.\u001b[39m\u001b[38;5;18m__dict__\u001b[39m[\u001b[38;5;28mself\u001b[39m\u001b[38;5;241m.\u001b[39mfunc\u001b[38;5;241m.\u001b[39m\u001b[38;5;18m__name__\u001b[39m] \u001b[38;5;241m=\u001b[39m result\n\u001b[0;32m    104\u001b[0m \u001b[38;5;28;01mreturn\u001b[39;00m result\n",
      "File \u001b[1;32m~\\anaconda3\\envs\\masters\\lib\\site-packages\\torchdrug\\utils\\torch.py:31\u001b[0m, in \u001b[0;36mLazyExtensionLoader.module\u001b[1;34m(self)\u001b[0m\n\u001b[0;32m     29\u001b[0m \u001b[38;5;129m@decorator\u001b[39m\u001b[38;5;241m.\u001b[39mcached_property\n\u001b[0;32m     30\u001b[0m \u001b[38;5;28;01mdef\u001b[39;00m \u001b[38;5;21mmodule\u001b[39m(\u001b[38;5;28mself\u001b[39m):\n\u001b[1;32m---> 31\u001b[0m     \u001b[38;5;28;01mreturn\u001b[39;00m \u001b[43mcpp_extension\u001b[49m\u001b[38;5;241;43m.\u001b[39;49m\u001b[43mload\u001b[49m\u001b[43m(\u001b[49m\u001b[38;5;28;43mself\u001b[39;49m\u001b[38;5;241;43m.\u001b[39;49m\u001b[43mname\u001b[49m\u001b[43m,\u001b[49m\u001b[43m \u001b[49m\u001b[38;5;28;43mself\u001b[39;49m\u001b[38;5;241;43m.\u001b[39;49m\u001b[43msources\u001b[49m\u001b[43m,\u001b[49m\u001b[43m \u001b[49m\u001b[38;5;28;43mself\u001b[39;49m\u001b[38;5;241;43m.\u001b[39;49m\u001b[43mextra_cflags\u001b[49m\u001b[43m,\u001b[49m\u001b[43m \u001b[49m\u001b[38;5;28;43mself\u001b[39;49m\u001b[38;5;241;43m.\u001b[39;49m\u001b[43mextra_cuda_cflags\u001b[49m\u001b[43m,\u001b[49m\n\u001b[0;32m     32\u001b[0m \u001b[43m                              \u001b[49m\u001b[38;5;28;43mself\u001b[39;49m\u001b[38;5;241;43m.\u001b[39;49m\u001b[43mextra_ldflags\u001b[49m\u001b[43m,\u001b[49m\u001b[43m \u001b[49m\u001b[38;5;28;43mself\u001b[39;49m\u001b[38;5;241;43m.\u001b[39;49m\u001b[43mextra_include_paths\u001b[49m\u001b[43m,\u001b[49m\u001b[43m \u001b[49m\u001b[38;5;28;43mself\u001b[39;49m\u001b[38;5;241;43m.\u001b[39;49m\u001b[43mbuild_directory\u001b[49m\u001b[43m,\u001b[49m\n\u001b[0;32m     33\u001b[0m \u001b[43m                              \u001b[49m\u001b[38;5;28;43mself\u001b[39;49m\u001b[38;5;241;43m.\u001b[39;49m\u001b[43mverbose\u001b[49m\u001b[43m,\u001b[49m\u001b[43m \u001b[49m\u001b[38;5;241;43m*\u001b[39;49m\u001b[38;5;241;43m*\u001b[39;49m\u001b[38;5;28;43mself\u001b[39;49m\u001b[38;5;241;43m.\u001b[39;49m\u001b[43mkwargs\u001b[49m\u001b[43m)\u001b[49m\n",
      "File \u001b[1;32m~\\anaconda3\\envs\\masters\\lib\\site-packages\\torch\\utils\\cpp_extension.py:1284\u001b[0m, in \u001b[0;36mload\u001b[1;34m(name, sources, extra_cflags, extra_cuda_cflags, extra_ldflags, extra_include_paths, build_directory, verbose, with_cuda, is_python_module, is_standalone, keep_intermediates)\u001b[0m\n\u001b[0;32m   1192\u001b[0m \u001b[38;5;28;01mdef\u001b[39;00m \u001b[38;5;21mload\u001b[39m(name,\n\u001b[0;32m   1193\u001b[0m          sources: Union[\u001b[38;5;28mstr\u001b[39m, List[\u001b[38;5;28mstr\u001b[39m]],\n\u001b[0;32m   1194\u001b[0m          extra_cflags\u001b[38;5;241m=\u001b[39m\u001b[38;5;28;01mNone\u001b[39;00m,\n\u001b[1;32m   (...)\u001b[0m\n\u001b[0;32m   1202\u001b[0m          is_standalone\u001b[38;5;241m=\u001b[39m\u001b[38;5;28;01mFalse\u001b[39;00m,\n\u001b[0;32m   1203\u001b[0m          keep_intermediates\u001b[38;5;241m=\u001b[39m\u001b[38;5;28;01mTrue\u001b[39;00m):\n\u001b[0;32m   1204\u001b[0m \u001b[38;5;250m    \u001b[39m\u001b[38;5;124mr\u001b[39m\u001b[38;5;124;03m'''\u001b[39;00m\n\u001b[0;32m   1205\u001b[0m \u001b[38;5;124;03m    Loads a PyTorch C++ extension just-in-time (JIT).\u001b[39;00m\n\u001b[0;32m   1206\u001b[0m \n\u001b[1;32m   (...)\u001b[0m\n\u001b[0;32m   1282\u001b[0m \u001b[38;5;124;03m        ...     verbose=True)\u001b[39;00m\n\u001b[0;32m   1283\u001b[0m \u001b[38;5;124;03m    '''\u001b[39;00m\n\u001b[1;32m-> 1284\u001b[0m     \u001b[38;5;28;01mreturn\u001b[39;00m \u001b[43m_jit_compile\u001b[49m\u001b[43m(\u001b[49m\n\u001b[0;32m   1285\u001b[0m \u001b[43m        \u001b[49m\u001b[43mname\u001b[49m\u001b[43m,\u001b[49m\n\u001b[0;32m   1286\u001b[0m \u001b[43m        \u001b[49m\u001b[43m[\u001b[49m\u001b[43msources\u001b[49m\u001b[43m]\u001b[49m\u001b[43m \u001b[49m\u001b[38;5;28;43;01mif\u001b[39;49;00m\u001b[43m \u001b[49m\u001b[38;5;28;43misinstance\u001b[39;49m\u001b[43m(\u001b[49m\u001b[43msources\u001b[49m\u001b[43m,\u001b[49m\u001b[43m \u001b[49m\u001b[38;5;28;43mstr\u001b[39;49m\u001b[43m)\u001b[49m\u001b[43m \u001b[49m\u001b[38;5;28;43;01melse\u001b[39;49;00m\u001b[43m \u001b[49m\u001b[43msources\u001b[49m\u001b[43m,\u001b[49m\n\u001b[0;32m   1287\u001b[0m \u001b[43m        \u001b[49m\u001b[43mextra_cflags\u001b[49m\u001b[43m,\u001b[49m\n\u001b[0;32m   1288\u001b[0m \u001b[43m        \u001b[49m\u001b[43mextra_cuda_cflags\u001b[49m\u001b[43m,\u001b[49m\n\u001b[0;32m   1289\u001b[0m \u001b[43m        \u001b[49m\u001b[43mextra_ldflags\u001b[49m\u001b[43m,\u001b[49m\n\u001b[0;32m   1290\u001b[0m \u001b[43m        \u001b[49m\u001b[43mextra_include_paths\u001b[49m\u001b[43m,\u001b[49m\n\u001b[0;32m   1291\u001b[0m \u001b[43m        \u001b[49m\u001b[43mbuild_directory\u001b[49m\u001b[43m \u001b[49m\u001b[38;5;129;43;01mor\u001b[39;49;00m\u001b[43m \u001b[49m\u001b[43m_get_build_directory\u001b[49m\u001b[43m(\u001b[49m\u001b[43mname\u001b[49m\u001b[43m,\u001b[49m\u001b[43m \u001b[49m\u001b[43mverbose\u001b[49m\u001b[43m)\u001b[49m\u001b[43m,\u001b[49m\n\u001b[0;32m   1292\u001b[0m \u001b[43m        \u001b[49m\u001b[43mverbose\u001b[49m\u001b[43m,\u001b[49m\n\u001b[0;32m   1293\u001b[0m \u001b[43m        \u001b[49m\u001b[43mwith_cuda\u001b[49m\u001b[43m,\u001b[49m\n\u001b[0;32m   1294\u001b[0m \u001b[43m        \u001b[49m\u001b[43mis_python_module\u001b[49m\u001b[43m,\u001b[49m\n\u001b[0;32m   1295\u001b[0m \u001b[43m        \u001b[49m\u001b[43mis_standalone\u001b[49m\u001b[43m,\u001b[49m\n\u001b[0;32m   1296\u001b[0m \u001b[43m        \u001b[49m\u001b[43mkeep_intermediates\u001b[49m\u001b[38;5;241;43m=\u001b[39;49m\u001b[43mkeep_intermediates\u001b[49m\u001b[43m)\u001b[49m\n",
      "File \u001b[1;32m~\\anaconda3\\envs\\masters\\lib\\site-packages\\torch\\utils\\cpp_extension.py:1535\u001b[0m, in \u001b[0;36m_jit_compile\u001b[1;34m(name, sources, extra_cflags, extra_cuda_cflags, extra_ldflags, extra_include_paths, build_directory, verbose, with_cuda, is_python_module, is_standalone, keep_intermediates)\u001b[0m\n\u001b[0;32m   1532\u001b[0m \u001b[38;5;28;01mif\u001b[39;00m is_standalone:\n\u001b[0;32m   1533\u001b[0m     \u001b[38;5;28;01mreturn\u001b[39;00m _get_exec_path(name, build_directory)\n\u001b[1;32m-> 1535\u001b[0m \u001b[38;5;28;01mreturn\u001b[39;00m \u001b[43m_import_module_from_library\u001b[49m\u001b[43m(\u001b[49m\u001b[43mname\u001b[49m\u001b[43m,\u001b[49m\u001b[43m \u001b[49m\u001b[43mbuild_directory\u001b[49m\u001b[43m,\u001b[49m\u001b[43m \u001b[49m\u001b[43mis_python_module\u001b[49m\u001b[43m)\u001b[49m\n",
      "File \u001b[1;32m~\\anaconda3\\envs\\masters\\lib\\site-packages\\torch\\utils\\cpp_extension.py:1929\u001b[0m, in \u001b[0;36m_import_module_from_library\u001b[1;34m(module_name, path, is_python_module)\u001b[0m\n\u001b[0;32m   1927\u001b[0m spec \u001b[38;5;241m=\u001b[39m importlib\u001b[38;5;241m.\u001b[39mutil\u001b[38;5;241m.\u001b[39mspec_from_file_location(module_name, filepath)\n\u001b[0;32m   1928\u001b[0m \u001b[38;5;28;01massert\u001b[39;00m spec \u001b[38;5;129;01mis\u001b[39;00m \u001b[38;5;129;01mnot\u001b[39;00m \u001b[38;5;28;01mNone\u001b[39;00m\n\u001b[1;32m-> 1929\u001b[0m module \u001b[38;5;241m=\u001b[39m \u001b[43mimportlib\u001b[49m\u001b[38;5;241;43m.\u001b[39;49m\u001b[43mutil\u001b[49m\u001b[38;5;241;43m.\u001b[39;49m\u001b[43mmodule_from_spec\u001b[49m\u001b[43m(\u001b[49m\u001b[43mspec\u001b[49m\u001b[43m)\u001b[49m\n\u001b[0;32m   1930\u001b[0m \u001b[38;5;28;01massert\u001b[39;00m \u001b[38;5;28misinstance\u001b[39m(spec\u001b[38;5;241m.\u001b[39mloader, importlib\u001b[38;5;241m.\u001b[39mabc\u001b[38;5;241m.\u001b[39mLoader)\n\u001b[0;32m   1931\u001b[0m spec\u001b[38;5;241m.\u001b[39mloader\u001b[38;5;241m.\u001b[39mexec_module(module)\n",
      "File \u001b[1;32m<frozen importlib._bootstrap>:556\u001b[0m, in \u001b[0;36mmodule_from_spec\u001b[1;34m(spec)\u001b[0m\n",
      "File \u001b[1;32m<frozen importlib._bootstrap_external>:1166\u001b[0m, in \u001b[0;36mcreate_module\u001b[1;34m(self, spec)\u001b[0m\n",
      "File \u001b[1;32m<frozen importlib._bootstrap>:219\u001b[0m, in \u001b[0;36m_call_with_frames_removed\u001b[1;34m(f, *args, **kwds)\u001b[0m\n",
      "\u001b[1;31mImportError\u001b[0m: DLL load failed while importing torch_ext: The specified module could not be found."
     ]
    }
   ],
   "source": [
    "protein = dataset[0][\"graph\"]"
   ]
  },
  {
   "cell_type": "code",
   "execution_count": null,
   "id": "d19e92a4",
   "metadata": {},
   "outputs": [],
   "source": []
  }
 ],
 "metadata": {
  "kernelspec": {
   "display_name": "Python 3 (ipykernel)",
   "language": "python",
   "name": "python3"
  },
  "language_info": {
   "codemirror_mode": {
    "name": "ipython",
    "version": 3
   },
   "file_extension": ".py",
   "mimetype": "text/x-python",
   "name": "python",
   "nbconvert_exporter": "python",
   "pygments_lexer": "ipython3",
   "version": "3.8.16"
  }
 },
 "nbformat": 4,
 "nbformat_minor": 5
}
