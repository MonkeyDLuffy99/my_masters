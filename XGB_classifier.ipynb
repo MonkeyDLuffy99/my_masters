{
 "cells": [
  {
   "cell_type": "code",
   "execution_count": 1,
   "id": "15abc851",
   "metadata": {},
   "outputs": [
    {
     "name": "stderr",
     "output_type": "stream",
     "text": [
      "100%|█████████████████████████████████████████████████████████████████████████████| 5266/5266 [00:25<00:00, 202.55it/s]\n"
     ]
    }
   ],
   "source": [
    "from tqdm import tqdm as tqdm\n",
    "from rdkit import Chem\n",
    "from rdkit.Chem import AllChem\n",
    "from rdkit.Chem import DataStructs\n",
    "from Bio.SeqUtils.ProtParam import ProteinAnalysis\n",
    "import numpy as np\n",
    "from sklearn.preprocessing import normalize\n",
    "from itertools import product\n",
    "import math\n",
    "\n",
    "negative_ratio='1'\n",
    "\n",
    "def get_fingerprint(smiles, r=3, nBits=1024):\n",
    "    compound = Chem.MolFromSmiles(smiles.strip())\n",
    "    fingerprint = AllChem.GetMorganFingerprintAsBitVect(compound, r, nBits=nBits)\n",
    "    m = np.zeros((0, ), dtype=np.int8)\n",
    "    DataStructs.ConvertToNumpyArray(fingerprint,m)\n",
    "    return m\n",
    "\n",
    "def sequence_to_kmer(protein_seq, k):\n",
    "    groups={'A':'1','V':'1','G':'1','I':'2','L':'2','F':'2','P':'2','Y':'3',\n",
    "            'M':'3','T':'3','S':'3','H':'4','N':'4','Q':'4','W':'4',\n",
    "            'R':'5','K':'5','D':'6','E':'6','C':'7'}\n",
    "    crossproduct=[''.join (i) for i in product(\"1234567\",repeat=k)]\n",
    "    for i in range(0, len(crossproduct)): crossproduct[i]=int(crossproduct[i])\n",
    "    ind=[]\n",
    "    for i in range(0, len(crossproduct)): ind.append(i)\n",
    "    combinations=dict(zip(crossproduct, ind))\n",
    "    \n",
    "    V=np.zeros(int((math.pow(7,k))))\n",
    "    try:\n",
    "        for j in range(0, len(protein_seq)-k+1):\n",
    "            kmer=protein_seq[j:j+k]\n",
    "            c=''\n",
    "            for l in range(0, k):\n",
    "                c+=groups[kmer[l]]\n",
    "                V[combinations[int(c)]] += 1\n",
    "    except:\n",
    "        count={'1':0,'2':0,'3':0, '4':0, '5':0,'6':0,'7':0}\n",
    "        for q in range(0,len(protein_seq)):\n",
    "            if protein_seq[q]=='A' or protein_seq[q]=='V' or protein_seq[q]=='G':\n",
    "                count['1']+=1\n",
    "            if protein_seq[q]=='I' or protein_seq[q]=='L'or protein_seq[q]=='F' or protein_seq[q]=='P':\n",
    "                count['2']+=1\n",
    "            if protein_seq[q]=='Y' or protein_seq[q]=='M'or protein_seq[q]=='T' or protein_seq[q]=='S':\n",
    "                count['3']+=1\n",
    "            if protein_seq[q]=='H' or protein_seq[q]=='N'or protein_seq[q]=='Q' or protein_seq[q]=='W':\n",
    "                count['4']+=1\n",
    "            if protein_seq[q]=='R' or protein_seq[q]=='K':\n",
    "                count['5']+=1\n",
    "            if protein_seq[q]=='D' or protein_seq[q]=='E':\n",
    "                count['6']+=1\n",
    "            if protein_seq[q]=='C':\n",
    "                count['7']+=1\n",
    "        \n",
    "        value=list(count.values())\n",
    "        key=list(count.keys())\n",
    "        maximum_occurence=0\n",
    "        index=0\n",
    "        for t in range(0, len(value)):\n",
    "            if maximum_occurence < value[t]:\n",
    "                maximum_occurence = value[t]\n",
    "                index=t\n",
    "        maximum_occurence = key[index] # group number of maximum occuring group\n",
    "        for j in range(0, len(protein_seq)-k+1):\n",
    "            kmer=protein_seq[j:j+k]\n",
    "            c=''\n",
    "            for l in range(0, k):\n",
    "                if kmer[l] not in groups:\n",
    "                    c += maximum_occurence\n",
    "                else:\n",
    "                    c+=groups[kmer[l]]\n",
    "            V[combinations[int(c)]] += 1\n",
    "            \n",
    "        V = V/(len(protein_seq)-1)\n",
    "        return np.array(V)\n",
    "    \n",
    "def get_protein_features(protein_sequence):\n",
    "    aa=['A', 'C', 'D', 'E', 'F', 'G', 'H', 'I', 'K', 'L', 'M', 'N', 'P', 'Q', 'R', 'S', 'T', 'V', 'W', 'Y']\n",
    "    f = []\n",
    "    protein_info = ProteinAnalysis(str(protein_sequence))\n",
    "    protein_info.molecular_weight()\n",
    "    amino_acid_percent = protein_info.get_amino_acids_percent()\n",
    "    dp = []\n",
    "    for a in aa:\n",
    "        dp.append(amino_acid_percent[a])\n",
    "    dp=np.array(dp)\n",
    "    dp=normalize(np.atleast_2d(dp), norm='l2', copy=True, axis=1, return_norm=False)\n",
    "    f.extend(dp[0])\n",
    "    twomer=np.array(sequence_to_kmer(str(protein_sequence), 2))\n",
    "    twomer=normalize(np.atleast_2d(twomer), norm='l2', copy=True, axis=1,return_norm=False)\n",
    "    f.extend(twomer[0])\n",
    "    threemer=np.array(sequence_to_kmer(str(protein_sequence), 3))\n",
    "    threemer=normalize(np.atleast_2d(threemer), norm='l2', copy=True, axis=1,return_norm=False)\n",
    "    f.extend(threemer[0])\n",
    "    return np.array(f)\n",
    "    \n",
    "\n",
    "def process_data_file(text_file):\n",
    "    with open(text_file) as f:\n",
    "        lines = f.readlines()\n",
    "\n",
    "    compounds = []; proteins = []; Y=[]\n",
    "    compound_seq = []; protein_seq = [] # may not be necessary\n",
    "    for line in tqdm(lines):\n",
    "        compound, protein, label = line.split() # compounds are in SMILES format\n",
    "        try:\n",
    "            morgan_fingerprint = get_fingerprint(compound)\n",
    "            protein_sequence = get_protein_features(protein)\n",
    "        except Exception as e:\n",
    "            print(e)\n",
    "            continue\n",
    "        compounds.append(morgan_fingerprint)\n",
    "        proteins.append(protein_sequence)\n",
    "        compound_seq.append(compound) # smiles format of compounds\n",
    "        protein_seq.append(protein) # protein sequences\n",
    "        Y.append(2*float(label)-1)\n",
    "\n",
    "    # convert lists to numpy arrays\n",
    "    Y = np.array(Y)\n",
    "    compounds = np.array(compounds)\n",
    "    proteins = np.array(proteins)\n",
    "    \n",
    "    return Y, compounds, proteins, protein_seq, compound_seq\n",
    "\n",
    "Y, compounds, proteins, protein_seq, compound_seq = process_data_file('NR-HCPI/pos2negtiveRatio1_Random.txt')\n"
   ]
  },
  {
   "cell_type": "code",
   "execution_count": 2,
   "id": "542cc9a9",
   "metadata": {},
   "outputs": [
    {
     "name": "stdout",
     "output_type": "stream",
     "text": [
      "label shape:  (5266,)\n",
      "compound shape (5266, 1024)\n",
      "protein shape:  (5266, 412)\n"
     ]
    }
   ],
   "source": [
    "print(\"label shape: \", Y.shape)\n",
    "print(\"compound shape\", compounds.shape)\n",
    "print(\"protein shape: \", proteins.shape)"
   ]
  },
  {
   "cell_type": "code",
   "execution_count": 3,
   "id": "8e2f3e85",
   "metadata": {},
   "outputs": [
    {
     "name": "stdout",
     "output_type": "stream",
     "text": [
      "shape of X:  (5266, 1436)\n",
      "[1 1 1 ... 0 0 0]\n"
     ]
    }
   ],
   "source": [
    "def create_dataset_and_labels(proteins, compounds, Y):\n",
    "    proteins_compounds_combined = np.column_stack((proteins, compounds))\n",
    "    print(\"shape of X: \", proteins_compounds_combined.shape)\n",
    "\n",
    "    y_classification = []\n",
    "\n",
    "    for label in Y:\n",
    "        if label == 1.0:\n",
    "            y_classification.append(1)\n",
    "        else:\n",
    "            y_classification.append(0)\n",
    "\n",
    "    y_classification = np.array(y_classification)\n",
    "    print(y_classification)\n",
    "    \n",
    "    return y_classification, proteins_compounds_combined\n",
    "\n",
    "y_classification, proteins_compounds_combined = create_dataset_and_labels(proteins, compounds, Y)"
   ]
  },
  {
   "cell_type": "code",
   "execution_count": 4,
   "id": "58e953b9",
   "metadata": {},
   "outputs": [
    {
     "name": "stderr",
     "output_type": "stream",
     "text": [
      "C:\\Users\\antre\\anaconda3\\envs\\myenv\\lib\\site-packages\\xgboost\\sklearn.py:1395: UserWarning: `use_label_encoder` is deprecated in 1.7.0.\n",
      "  warnings.warn(\"`use_label_encoder` is deprecated in 1.7.0.\")\n"
     ]
    },
    {
     "name": "stdout",
     "output_type": "stream",
     "text": [
      "Fold  1  results:  accuracy  0.8225806451612904  auc_roc:  0.9032798159356782  precision_recall:  0.912626515778937\n",
      "Fold  2  results:  accuracy  0.8167141500474834  auc_roc:  0.8991782166073838  precision_recall:  0.9042024490613936\n",
      "Fold  3  results:  accuracy  0.805318138651472  auc_roc:  0.8848673530494008  precision_recall:  0.8922766220669185\n",
      "Fold  4  results:  accuracy  0.8309591642924976  auc_roc:  0.9015771891977691  precision_recall:  0.9080158929675136\n",
      "Fold  5  results:  accuracy  0.8157644824311491  auc_roc:  0.887511634115194  precision_recall:  0.8912325714419433\n",
      "Mean accuracy:  0.8182673161167784\n",
      "Mean auc roc:  0.8952828417810851\n",
      "Mean precision recall:  0.9016708102633413\n"
     ]
    }
   ],
   "source": [
    "from sklearn.model_selection import StratifiedKFold\n",
    "from sklearn.metrics import mean_squared_error\n",
    "import xgboost as xgb\n",
    "\n",
    "skf = StratifiedKFold(n_splits=5, shuffle=True)\n",
    "model = xgb.XGBClassifier(use_label_encoder=False, eval_metric=\"logloss\")\n",
    "\n",
    "def train_xgb_stratifiedkfold(model, dataset, labels):\n",
    "    accuracy_scores = []\n",
    "    auc_roc_scores = []\n",
    "    pr_curve_scores = []\n",
    "    fold_no = 1\n",
    "    for train_index, test_index in skf.split(dataset, labels):\n",
    "        X_train, X_test = dataset[train_index], dataset[test_index]\n",
    "        y_train, y_test = labels[train_index], labels[test_index]\n",
    "        model.fit(X_train, y_train)\n",
    "        prediction_probabilities = model.predict_proba(X_test)\n",
    "        prediction_probabilities = prediction_probabilities[:,1]\n",
    "        predictions = model.predict(X_test)\n",
    "        ACCURACY = accuracy_score(y_test, predictions)\n",
    "        AUC_ROC = roc_auc_score(y_test, prediction_probabilities)\n",
    "        PR_SCORE = average_precision_score(y_test, prediction_probabilities)\n",
    "        accuracy_scores.append(ACCURACY)\n",
    "        auc_roc_scores.append(AUC_ROC)\n",
    "        pr_curve_scores.append(PR_SCORE)\n",
    "        print(\"Fold \", fold_no, \" results: \", \"accuracy \", ACCURACY, \" auc_roc: \", AUC_ROC, \" precision_recall: \", PR_SCORE)\n",
    "        fold_no += 1\n",
    "    \n",
    "    return accuracy_scores, auc_roc_scores, pr_curve_scores\n",
    "    \n",
    "accuracy_scores, auc_roc_scores, pr_curve_scores = train_xgb_stratifiedkfold(model, proteins_compounds_combined, y_classification)\n",
    "print(\"Mean accuracy: \", np.mean(accuracy_scores))\n",
    "print(\"Mean auc roc: \", np.mean(auc_roc_scores))\n",
    "print(\"Mean precision recall: \", np.mean(pr_curve_scores))"
   ]
  },
  {
   "cell_type": "code",
   "execution_count": 5,
   "id": "b7f2c305",
   "metadata": {},
   "outputs": [],
   "source": [
    "# from sklearn.metrics.pairwise import rbf_kernel as kernel\n",
    "# from sklearn.preprocessing import StandardScaler\n",
    "\n",
    "# def generate_negative_examples(protein_seq, compound_seq, threshold):\n",
    "#     protein_set = list(set(protein_seq))\n",
    "#     protein_indices = list(range(len(protein_set)))\n",
    "#     protein_dict = dict(zip(protein_set, protein_indices))\n",
    "#     compound_set = list(set(compound_seq))\n",
    "#     compound_indices = list(range(len(compound_set)))\n",
    "#     compound_dict = dict(zip(compound_set, compound_indices))\n",
    "#     protein_compound_pairs = np.array([(protein_dict[p], compound_dict[c]) for (p,c) in zip(protein_seq, compound_seq)])\n",
    "#     pos, negs = protein_compound_pairs[Y==1,:], protein_compound_pairs[Y!=1,:]\n",
    "    \n",
    "#     # keep only positive indices\n",
    "#     protein_indices, compound_indices = list(set(pos[:,0])), list(set(pos[:,1]))\n",
    "    \n",
    "#     # remove redundant positive and negative examples\n",
    "#     pos, negs = list(set(map(tuple, pos.tolist()))), list(set(map(tuple, negs.tolist())))\n",
    "    \n",
    "#     positive_protein_sequences = np.array([s[0] for s in pos])\n",
    "#     positive_protein_features = np.array([get_protein_features(protein_set[s]) for s in positive_protein_sequences])\n",
    "    \n",
    "#     positive_compound_sequences = np.array([s[1] for s in pos])\n",
    "#     positive_compound_features = np.array([get_fingerprint(compound_set[s]) for s in positive_compound_sequences])\n",
    "    \n",
    "#     positive_proteins_scaler = StandardScaler().fit(positive_protein_features)\n",
    "#     positive_compounds_scaler = StandardScaler().fit(positive_compound_features)\n",
    "#     positive_proteins_scaled = positive_proteins_scaler.transform(positive_protein_features)\n",
    "#     positive_compounds_scaled = positive_compounds_scaler.transform(positive_compound_features)\n",
    "    \n",
    "#     positive_proteins_kernel = kernel(positive_proteins_scaled)\n",
    "#     positive_compounds_kernel = kernel(positive_compounds_scaled)\n",
    "#     protein_kernel_dict = dict(zip(positive_protein_sequences, positive_proteins_kernel))\n",
    "#     compound_kernel_dict = dict(zip(positive_compound_sequences, positive_compounds_kernel))\n",
    "    \n",
    "#     negative_examples = {}\n",
    "#     while len(negative_examples) < 100:\n",
    "#         pair = (random.choice(protein_indices), random.choice(compound_indices))\n",
    "#         protein_index = np.argmax(protein_kernel_dict[pair[0]])\n",
    "#         new_protein_kernel=np.delete(positive_proteins_kernel[protein_index], protein_index)\n",
    "#         compound_index = np.argmax(compound_kernel_dict[pair[1]])\n",
    "#         new_compound_kernel = np.delete(positive_compounds_kernel[compound_index], compound_index)\n",
    "#         alpha=np.max(new_protein_kernel)*np.max(new_compound_kernel)\n",
    "#         if pair not in pos and pair not in negs and alpha<threshold:\n",
    "#             negative_examples[pair[0]] = pair[1] # protein -> compound\n",
    "#     return negative_examples\n",
    "\n",
    "\n",
    "# generated_negatives = generate_negative_examples(protein_seq, compound_seq, 0.5)"
   ]
  },
  {
   "cell_type": "code",
   "execution_count": 6,
   "id": "96b9a0af",
   "metadata": {},
   "outputs": [
    {
     "name": "stderr",
     "output_type": "stream",
     "text": [
      "100%|█████████████████████████████████████████████████████████████████████████████| 5266/5266 [00:25<00:00, 209.42it/s]\n"
     ]
    },
    {
     "name": "stdout",
     "output_type": "stream",
     "text": [
      "shape of X:  (5266, 1436)\n",
      "[1 1 1 ... 0 0 0]\n",
      "Fold  1  results:  accuracy  0.9487666034155597  auc_roc:  0.9867280694489952  precision_recall:  0.9900538031084101\n",
      "Fold  2  results:  accuracy  0.9420702754036088  auc_roc:  0.9844553791098188  precision_recall:  0.9866107333238066\n",
      "Fold  3  results:  accuracy  0.9449192782526116  auc_roc:  0.9848197343453511  precision_recall:  0.9868661274071168\n",
      "Fold  4  results:  accuracy  0.9439696106362773  auc_roc:  0.9823630421136932  precision_recall:  0.9853915287464005\n",
      "Fold  5  results:  accuracy  0.9354226020892688  auc_roc:  0.9774244053073209  precision_recall:  0.9829011725218051\n"
     ]
    }
   ],
   "source": [
    "# alpha = 0.1\n",
    "Y_01, compounds_01, proteins_01, protein_seq_01, compound_seq_01 = process_data_file('NR-HCPI/pos2negtiveRatio1_Alpha_threshold_0.1.txt')\n",
    "y_classification_01, proteins_compounds_combined_01 = create_dataset_and_labels(proteins_01, compounds_01, Y_01)\n",
    "accuracy_scores_0_1, auc_roc_scores_0_1, pr_curve_scores_0_1 = train_xgb_stratifiedkfold(model, proteins_compounds_combined_01, y_classification_01)"
   ]
  },
  {
   "cell_type": "code",
   "execution_count": 7,
   "id": "e02a781c",
   "metadata": {},
   "outputs": [
    {
     "name": "stderr",
     "output_type": "stream",
     "text": [
      "100%|█████████████████████████████████████████████████████████████████████████████| 5266/5266 [00:23<00:00, 220.49it/s]\n"
     ]
    },
    {
     "name": "stdout",
     "output_type": "stream",
     "text": [
      "shape of X:  (5266, 1436)\n",
      "[1 1 1 ... 0 0 0]\n",
      "Fold  1  results:  accuracy  0.7760910815939279  auc_roc:  0.8389365172524296  precision_recall:  0.8742089551365961\n",
      "Fold  2  results:  accuracy  0.7587844254510921  auc_roc:  0.8240200287155215  precision_recall:  0.850058782759768\n",
      "Fold  3  results:  accuracy  0.7578347578347578  auc_roc:  0.8246405148592002  precision_recall:  0.850891871784867\n",
      "Fold  4  results:  accuracy  0.7521367521367521  auc_roc:  0.8047452760081095  precision_recall:  0.8441590239810814\n",
      "Fold  5  results:  accuracy  0.7388414055080722  auc_roc:  0.8044350329362702  precision_recall:  0.8453364808885262\n"
     ]
    }
   ],
   "source": [
    "# alpha=0.2\n",
    "Y_02, compounds_02, proteins_02, protein_seq_02, compound_seq_02 = process_data_file('NR-HCPI/pos2negtiveRatio1_Alpha_threshold_0.2.txt')\n",
    "y_classification_02, proteins_compounds_combined_02 = create_dataset_and_labels(proteins_02, compounds, Y_02)\n",
    "accuracy_scores_0_2, auc_roc_scores_0_2, pr_curve_scores_0_2 = train_xgb_stratifiedkfold(model, proteins_compounds_combined_02, y_classification_02)"
   ]
  },
  {
   "cell_type": "code",
   "execution_count": 8,
   "id": "de3e4ddb",
   "metadata": {},
   "outputs": [
    {
     "name": "stderr",
     "output_type": "stream",
     "text": [
      "100%|█████████████████████████████████████████████████████████████████████████████| 5266/5266 [00:22<00:00, 230.16it/s]\n"
     ]
    },
    {
     "name": "stdout",
     "output_type": "stream",
     "text": [
      "shape of X:  (5266, 1436)\n",
      "[1 1 1 ... 0 0 0]\n",
      "Fold  1  results:  accuracy  0.8776091081593927  auc_roc:  0.9394229626722452  precision_recall:  0.9460678985415611\n",
      "Fold  2  results:  accuracy  0.8727445394112061  auc_roc:  0.9359131607997055  precision_recall:  0.9357482798171627\n",
      "Fold  3  results:  accuracy  0.8575498575498576  auc_roc:  0.9232509144955664  precision_recall:  0.9263584293350278\n",
      "Fold  4  results:  accuracy  0.8774928774928775  auc_roc:  0.9538747916681698  precision_recall:  0.9577529492702906\n",
      "Fold  5  results:  accuracy  0.8660968660968661  auc_roc:  0.937839553827173  precision_recall:  0.9462411373752928\n"
     ]
    }
   ],
   "source": [
    "# alpha=0.4\n",
    "Y_04, compounds_04, proteins_04, protein_seq_04, compound_seq_04 = process_data_file('NR-HCPI/pos2negtiveRatio1_Alpha_threshold_0.4.txt')\n",
    "y_classification_04, proteins_compounds_combined_04 = create_dataset_and_labels(proteins_04, compounds_04, Y_04)\n",
    "accuracy_scores_0_4, auc_roc_scores_0_4, pr_curve_scores_0_4 = train_xgb_stratifiedkfold(model, proteins_compounds_combined_04, y_classification_04)"
   ]
  },
  {
   "cell_type": "code",
   "execution_count": 9,
   "id": "e13dfe50",
   "metadata": {},
   "outputs": [
    {
     "name": "stderr",
     "output_type": "stream",
     "text": [
      "100%|█████████████████████████████████████████████████████████████████████████████| 5266/5266 [00:22<00:00, 229.02it/s]\n"
     ]
    },
    {
     "name": "stdout",
     "output_type": "stream",
     "text": [
      "shape of X:  (5266, 1436)\n",
      "[1 1 1 ... 0 0 0]\n",
      "Fold  1  results:  accuracy  0.8662239089184061  auc_roc:  0.9250240342204092  precision_recall:  0.9310271522556204\n",
      "Fold  2  results:  accuracy  0.8442545109211775  auc_roc:  0.9235936248656215  precision_recall:  0.9285009762231957\n",
      "Fold  3  results:  accuracy  0.8566001899335233  auc_roc:  0.9283446728378583  precision_recall:  0.9393700562973732\n",
      "Fold  4  results:  accuracy  0.8366571699905033  auc_roc:  0.9092755463524795  precision_recall:  0.9148379340910098\n",
      "Fold  5  results:  accuracy  0.8575498575498576  auc_roc:  0.9333807115388779  precision_recall:  0.9383133748793524\n"
     ]
    }
   ],
   "source": [
    "# alpha=0.6\n",
    "Y_06, compounds_06, proteins_06, protein_seq_06, compound_seq_06 = process_data_file('NR-HCPI/pos2negtiveRatio1_Alpha_threshold_0.6.txt')\n",
    "y_classification_06, proteins_compounds_combined_06 = create_dataset_and_labels(proteins_06, compounds_06, Y_06)\n",
    "accuracy_scores_0_6, auc_roc_scores_0_6, pr_curve_scores_0_6 = train_xgb_stratifiedkfold(model, proteins_compounds_combined_06, y_classification_06)"
   ]
  },
  {
   "cell_type": "code",
   "execution_count": 10,
   "id": "c8ced8bd",
   "metadata": {},
   "outputs": [
    {
     "name": "stderr",
     "output_type": "stream",
     "text": [
      "100%|█████████████████████████████████████████████████████████████████████████████| 5266/5266 [00:22<00:00, 229.26it/s]\n"
     ]
    },
    {
     "name": "stdout",
     "output_type": "stream",
     "text": [
      "shape of X:  (5266, 1436)\n",
      "[1 1 1 ... 0 0 0]\n",
      "Fold  1  results:  accuracy  0.8671726755218216  auc_roc:  0.9263652697413667  precision_recall:  0.9268303058582393\n",
      "Fold  2  results:  accuracy  0.8452041785375118  auc_roc:  0.9229298489909885  precision_recall:  0.9316183275009837\n",
      "Fold  3  results:  accuracy  0.8584995251661919  auc_roc:  0.9339326556085454  precision_recall:  0.9405536833054963\n",
      "Fold  4  results:  accuracy  0.8480531813865148  auc_roc:  0.9150835852555178  precision_recall:  0.9260879005745618\n",
      "Fold  5  results:  accuracy  0.8404558404558404  auc_roc:  0.8990880296678958  precision_recall:  0.9051246688842297\n"
     ]
    }
   ],
   "source": [
    "# alpha=0.8\n",
    "Y_08, compounds_08, proteins_08, protein_seq_08, compound_seq_08 = process_data_file('NR-HCPI/pos2negtiveRatio1_Alpha_threshold_0.8.txt')\n",
    "y_classification_08, proteins_compounds_combined_08 = create_dataset_and_labels(proteins_08, compounds_08, Y_08)\n",
    "accuracy_scores_0_8, auc_roc_scores_0_8, pr_curve_scores_0_8 = train_xgb_stratifiedkfold(model, proteins_compounds_combined_08, y_classification_08)"
   ]
  },
  {
   "cell_type": "code",
   "execution_count": 11,
   "id": "7bde3f75",
   "metadata": {},
   "outputs": [
    {
     "name": "stderr",
     "output_type": "stream",
     "text": [
      "100%|█████████████████████████████████████████████████████████████████████████████| 5266/5266 [00:23<00:00, 227.14it/s]\n"
     ]
    },
    {
     "name": "stdout",
     "output_type": "stream",
     "text": [
      "shape of X:  (5266, 1436)\n",
      "[1 1 1 ... 0 0 0]\n",
      "Fold  1  results:  accuracy  0.816888045540797  auc_roc:  0.8967014607765122  precision_recall:  0.9036205203603007\n",
      "Fold  2  results:  accuracy  0.842355175688509  auc_roc:  0.9044884236044473  precision_recall:  0.9156212758970309\n",
      "Fold  3  results:  accuracy  0.8309591642924976  auc_roc:  0.8993838428294169  precision_recall:  0.9063859494978276\n",
      "Fold  4  results:  accuracy  0.8366571699905033  auc_roc:  0.9095424996933644  precision_recall:  0.9182532554491832\n",
      "Fold  5  results:  accuracy  0.8195631528964862  auc_roc:  0.8915700463921618  precision_recall:  0.8942558304316738\n"
     ]
    }
   ],
   "source": [
    "# alpha=1.0\n",
    "Y_10, compounds_10, proteins_10, protein_seq_10, compound_seq_10 = process_data_file('NR-HCPI/pos2negtiveRatio1_Alpha_threshold_1.0.txt')\n",
    "y_classification_10, proteins_compounds_combined_10 = create_dataset_and_labels(proteins_10, compounds_10, Y_10)\n",
    "accuracy_scores_1_0, auc_roc_scores_1_0, pr_curve_scores_1_0 = train_xgb_stratifiedkfold(model, proteins_compounds_combined_10, y_classification_10)"
   ]
  },
  {
   "cell_type": "code",
   "execution_count": 12,
   "id": "4a2aadfd",
   "metadata": {},
   "outputs": [
    {
     "name": "stdout",
     "output_type": "stream",
     "text": [
      "[0.9831581260650358, 0.8193554739543062, 0.9380602766925719, 0.9239237179630493, 0.9194798778528629, 0.9003372546591806]\n"
     ]
    },
    {
     "data": {
      "text/plain": [
       "Text(0, 0.5, 'auc roc score')"
      ]
     },
     "execution_count": 12,
     "metadata": {},
     "output_type": "execute_result"
    },
    {
     "data": {
      "image/png": "[encoded data removed]",
      "text/plain": [
       "<Figure size 200x200 with 1 Axes>"
      ]
     },
     "metadata": {},
     "output_type": "display_data"
    }
   ],
   "source": [
    "import matplotlib.pyplot as plt\n",
    "plt.style.use('_mpl-gallery')\n",
    "\n",
    "auc_roc_01 = np.mean(auc_roc_scores_0_1)\n",
    "auc_roc_02 = np.mean(auc_roc_scores_0_2)\n",
    "auc_roc_04 = np.mean(auc_roc_scores_0_4)\n",
    "auc_roc_06 = np.mean(auc_roc_scores_0_6)\n",
    "auc_roc_08 = np.mean(auc_roc_scores_0_8)\n",
    "auc_roc_10 = np.mean(auc_roc_scores_1_0)\n",
    "\n",
    "auc_rocs = [auc_roc_01, auc_roc_02, auc_roc_04, auc_roc_06, auc_roc_08, auc_roc_10]\n",
    "alphas = [0.1, 0.2, 0.4, 0.6, 0.8, 1.0]\n",
    "print(auc_rocs)\n",
    "\n",
    "plt.plot(alphas,auc_rocs)\n",
    "plt.title('Alpha value against AUC ROC score')\n",
    "plt.xlabel('alpha')\n",
    "plt.ylabel('auc roc score')\n",
    "# plt.show()"
   ]
  },
  {
   "cell_type": "code",
   "execution_count": 13,
   "id": "e8dad555",
   "metadata": {},
   "outputs": [
    {
     "name": "stdout",
     "output_type": "stream",
     "text": [
      "[0.9863646730215077, 0.8529310229101676, 0.942433738867867, 0.9304098987493102, 0.9260429772247022, 0.9076273663272032]\n"
     ]
    },
    {
     "data": {
      "image/png": "[encoded data removed]",
      "text/plain": [
       "<Figure size 200x200 with 1 Axes>"
      ]
     },
     "metadata": {},
     "output_type": "display_data"
    }
   ],
   "source": [
    "auc_pr_01 = np.mean(pr_curve_scores_0_1)\n",
    "auc_pr_02 = np.mean(pr_curve_scores_0_2)\n",
    "auc_pr_04 = np.mean(pr_curve_scores_0_4)\n",
    "auc_pr_06 = np.mean(pr_curve_scores_0_6)\n",
    "auc_pr_08 = np.mean(pr_curve_scores_0_8)\n",
    "auc_pr_10 = np.mean(pr_curve_scores_1_0)\n",
    "\n",
    "auc_prs = [auc_pr_01, auc_pr_02, auc_pr_04, auc_pr_06, auc_pr_08, auc_pr_10]\n",
    "alphas = [0.1, 0.2, 0.4, 0.6, 0.8, 1.0]\n",
    "print(auc_prs)\n",
    "\n",
    "plt.plot(alphas,auc_prs)\n",
    "plt.title('Line graph of alpha value against auc pr score')\n",
    "plt.xlabel('alpha')\n",
    "plt.ylabel('auc pr score')\n",
    "plt.show()"
   ]
  },
  {
   "cell_type": "code",
   "execution_count": null,
   "id": "f99e4989",
   "metadata": {},
   "outputs": [],
   "source": []
  }
 ],
 "metadata": {
  "kernelspec": {
   "display_name": "Python 3 (ipykernel)",
   "language": "python",
   "name": "python3"
  },
  "language_info": {
   "codemirror_mode": {
    "name": "ipython",
    "version": 3
   },
   "file_extension": ".py",
   "mimetype": "text/x-python",
   "name": "python",
   "nbconvert_exporter": "python",
   "pygments_lexer": "ipython3",
   "version": "3.10.9"
  }
 },
 "nbformat": 4,
 "nbformat_minor": 5
}
